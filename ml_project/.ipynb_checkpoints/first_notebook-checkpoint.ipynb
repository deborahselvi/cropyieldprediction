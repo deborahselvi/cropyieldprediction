{
 "cells": [
  {
   "cell_type": "code",
   "execution_count": null,
   "metadata": {},
   "outputs": [],
   "source": [
    "from sklearn import datasets, svm\n",
    "\n",
    "# load digits data from scikit learn\n",
    "digits = datasets.load_digits()\n",
    "  \n",
    "# configure support vector classification\n",
    "# gamma is kernel coefficient\n",
    "# C is the penalty parameter, default is 1,\n",
    "# more noisy data should be a lower value, less noisy a higher value\n",
    "clf = svm.SVC(gamma=0.001, C=100.)\n",
    "\n",
    "# train with all data except the last image\n",
    "clf.fit(digits.data[:-1], digits.target[:-1])\n",
    "\n",
    "# predict using the last image\n",
    "clf.predict(digits.data[-1:]) "
   ]
  }
 ],
 "metadata": {
  "kernelspec": {
   "display_name": "Python 3",
   "language": "python",
   "name": "python3"
  },
  "language_info": {
   "codemirror_mode": {
    "name": "ipython",
    "version": 3
   },
   "file_extension": ".py",
   "mimetype": "text/x-python",
   "name": "python",
   "nbconvert_exporter": "python",
   "pygments_lexer": "ipython3",
   "version": "3.7.5"
  }
 },
 "nbformat": 4,
 "nbformat_minor": 2
}
